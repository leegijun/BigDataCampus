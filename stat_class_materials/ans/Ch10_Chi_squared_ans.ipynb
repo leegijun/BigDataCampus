{
 "cells": [
  {
   "cell_type": "markdown",
   "metadata": {},
   "source": [
    "### Task\n",
    "1. Again, import them all!!"
   ]
  },
  {
   "cell_type": "code",
   "execution_count": 1,
   "metadata": {},
   "outputs": [],
   "source": [
    "import numpy as np\n",
    "import pandas as pd\n",
    "import scipy.stats as stat\n",
    "import matplotlib.pyplot as plt\n",
    "%matplotlib inline"
   ]
  },
  {
   "cell_type": "markdown",
   "metadata": {},
   "source": [
    "### Task\n",
    "1. 15 patients with cancer, two categorical variables observed, tumor (Y/N) and metastasis (Y/N).\n",
    "2. chi-square test them to find the association between the two variables.\n",
    "\n",
    "https://pandas.pydata.org/pandas-docs/stable/generated/pandas.crosstab.html\n",
    "\n",
    "https://docs.scipy.org/doc/scipy-0.15.1/reference/generated/scipy.stats.chi2_contingency.html"
   ]
  },
  {
   "cell_type": "code",
   "execution_count": 8,
   "metadata": {},
   "outputs": [],
   "source": [
    "# Given\n",
    "tumor = np.array([1]*10+[0]*5) # First 10 patients WITH tumor, last 5, without.\n",
    "meta = np.array([1]*8+[0]*6+[1]) # First 8 WITH metastasis, next 6 without, the last one, WITH."
   ]
  },
  {
   "cell_type": "code",
   "execution_count": 9,
   "metadata": {},
   "outputs": [
    {
     "data": {
      "text/html": [
       "<div>\n",
       "<style scoped>\n",
       "    .dataframe tbody tr th:only-of-type {\n",
       "        vertical-align: middle;\n",
       "    }\n",
       "\n",
       "    .dataframe tbody tr th {\n",
       "        vertical-align: top;\n",
       "    }\n",
       "\n",
       "    .dataframe thead th {\n",
       "        text-align: right;\n",
       "    }\n",
       "</style>\n",
       "<table border=\"1\" class=\"dataframe\">\n",
       "  <thead>\n",
       "    <tr style=\"text-align: right;\">\n",
       "      <th>meta</th>\n",
       "      <th>0</th>\n",
       "      <th>1</th>\n",
       "    </tr>\n",
       "    <tr>\n",
       "      <th>tumor</th>\n",
       "      <th></th>\n",
       "      <th></th>\n",
       "    </tr>\n",
       "  </thead>\n",
       "  <tbody>\n",
       "    <tr>\n",
       "      <th>0</th>\n",
       "      <td>4</td>\n",
       "      <td>1</td>\n",
       "    </tr>\n",
       "    <tr>\n",
       "      <th>1</th>\n",
       "      <td>2</td>\n",
       "      <td>8</td>\n",
       "    </tr>\n",
       "  </tbody>\n",
       "</table>\n",
       "</div>"
      ],
      "text/plain": [
       "meta   0  1\n",
       "tumor      \n",
       "0      4  1\n",
       "1      2  8"
      ]
     },
     "execution_count": 9,
     "metadata": {},
     "output_type": "execute_result"
    }
   ],
   "source": [
    "crosstab = pd.crosstab(tumor, meta, rownames = ['tumor'],colnames=['meta'])\n",
    "crosstab"
   ]
  },
  {
   "cell_type": "code",
   "execution_count": 15,
   "metadata": {},
   "outputs": [
    {
     "name": "stdout",
     "output_type": "stream",
     "text": [
      "chi2= 2.8125, p= 0.0935, dot= 1.0000\n",
      "expected----\n",
      " [[2. 3.]\n",
      " [4. 6.]]\n"
     ]
    }
   ],
   "source": [
    "chi2, p, dot, expected = stat.chi2_contingency(crosstab)\n",
    "print(\"chi2= %.4f, p= %.4f, dot= %.4f\"%(chi2,p,dot))\n",
    "print(\"expected----\\n\",expected)"
   ]
  },
  {
   "cell_type": "code",
   "execution_count": 18,
   "metadata": {},
   "outputs": [
    {
     "name": "stdout",
     "output_type": "stream",
     "text": [
      "independent: no relationship between the variables\n"
     ]
    }
   ],
   "source": [
    "alpha=0.025\n",
    "if p>alpha:\n",
    "    print(\"independent: no relationship between the variables\")\n",
    "else:\n",
    "    print(\"not independent\")"
   ]
  },
  {
   "cell_type": "markdown",
   "metadata": {},
   "source": [
    "### Task\n",
    "1. chi-square test the 'chi2_test.csv.\n",
    "2. columns for mental illness (y/n), rows for willingness to go see someone about it (not sure, no, maybe, yes)."
   ]
  },
  {
   "cell_type": "code",
   "execution_count": 64,
   "metadata": {},
   "outputs": [
    {
     "data": {
      "text/html": [
       "<div>\n",
       "<style scoped>\n",
       "    .dataframe tbody tr th:only-of-type {\n",
       "        vertical-align: middle;\n",
       "    }\n",
       "\n",
       "    .dataframe tbody tr th {\n",
       "        vertical-align: top;\n",
       "    }\n",
       "\n",
       "    .dataframe thead th {\n",
       "        text-align: right;\n",
       "    }\n",
       "</style>\n",
       "<table border=\"1\" class=\"dataframe\">\n",
       "  <thead>\n",
       "    <tr style=\"text-align: right;\">\n",
       "      <th>disorder</th>\n",
       "      <th>no</th>\n",
       "      <th>yes</th>\n",
       "    </tr>\n",
       "    <tr>\n",
       "      <th>willingness</th>\n",
       "      <th></th>\n",
       "      <th></th>\n",
       "    </tr>\n",
       "  </thead>\n",
       "  <tbody>\n",
       "    <tr>\n",
       "      <th>maybe</th>\n",
       "      <td>269</td>\n",
       "      <td>237</td>\n",
       "    </tr>\n",
       "    <tr>\n",
       "      <th>no</th>\n",
       "      <td>194</td>\n",
       "      <td>119</td>\n",
       "    </tr>\n",
       "    <tr>\n",
       "      <th>not_sure</th>\n",
       "      <td>29</td>\n",
       "      <td>51</td>\n",
       "    </tr>\n",
       "    <tr>\n",
       "      <th>yes</th>\n",
       "      <td>25</td>\n",
       "      <td>51</td>\n",
       "    </tr>\n",
       "  </tbody>\n",
       "</table>\n",
       "</div>"
      ],
      "text/plain": [
       "disorder      no  yes\n",
       "willingness          \n",
       "maybe        269  237\n",
       "no           194  119\n",
       "not_sure      29   51\n",
       "yes           25   51"
      ]
     },
     "execution_count": 64,
     "metadata": {},
     "output_type": "execute_result"
    }
   ],
   "source": [
    "df = pd.read_csv('chi2_test.csv')\n",
    "df.groupby('willingness')['disorder'].value_counts().unstack()"
   ]
  },
  {
   "cell_type": "code",
   "execution_count": 65,
   "metadata": {},
   "outputs": [],
   "source": [
    "crosstab_1 = pd.crosstab(df['willingness'], df['disorder'])"
   ]
  },
  {
   "cell_type": "code",
   "execution_count": 66,
   "metadata": {},
   "outputs": [
    {
     "name": "stdout",
     "output_type": "stream",
     "text": [
      "chi2= 31.4847, p= 0.0000, dot= 3.0000\n"
     ]
    },
    {
     "data": {
      "text/plain": [
       "array([[268.30974359, 237.69025641],\n",
       "       [165.97025641, 147.02974359],\n",
       "       [ 42.42051282,  37.57948718],\n",
       "       [ 40.29948718,  35.70051282]])"
      ]
     },
     "execution_count": 66,
     "metadata": {},
     "output_type": "execute_result"
    }
   ],
   "source": [
    "chi2,p,dot,expected = stat.chi2_contingency(crosstab_1)\n",
    "print(\"chi2= %.4f, p= %.4f, dot= %.4f\"%(chi2,p,dot))\n",
    "expected"
   ]
  },
  {
   "cell_type": "code",
   "execution_count": 67,
   "metadata": {},
   "outputs": [
    {
     "name": "stdout",
     "output_type": "stream",
     "text": [
      "not independent\n"
     ]
    }
   ],
   "source": [
    "alpha=0.025\n",
    "if p>alpha:\n",
    "    print(\"independent: no relationship between the variables\")\n",
    "else:\n",
    "    print(\"not independent\")"
   ]
  },
  {
   "cell_type": "code",
   "execution_count": null,
   "metadata": {},
   "outputs": [],
   "source": []
  }
 ],
 "metadata": {
  "kernelspec": {
   "display_name": "Python 3",
   "language": "python",
   "name": "python3"
  },
  "language_info": {
   "codemirror_mode": {
    "name": "ipython",
    "version": 3
   },
   "file_extension": ".py",
   "mimetype": "text/x-python",
   "name": "python",
   "nbconvert_exporter": "python",
   "pygments_lexer": "ipython3",
   "version": "3.6.5"
  }
 },
 "nbformat": 4,
 "nbformat_minor": 2
}
