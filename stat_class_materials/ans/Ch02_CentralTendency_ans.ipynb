{
 "cells": [
  {
   "cell_type": "markdown",
   "metadata": {},
   "source": [
    "### Task\n",
    "1. import numpy, scipy.stats, matplotlib.pyplot as np, stat, plt\n",
    "2. import math"
   ]
  },
  {
   "cell_type": "code",
   "execution_count": 23,
   "metadata": {},
   "outputs": [],
   "source": [
    "import numpy as np\n",
    "import pandas as pd\n",
    "import scipy.stats as stat\n",
    "import matplotlib.pyplot as plt\n",
    "import math\n",
    "%matplotlib inline"
   ]
  },
  {
   "cell_type": "markdown",
   "metadata": {},
   "source": [
    "### 1. mean\n",
    "https://docs.scipy.org/doc/numpy/reference/generated/numpy.mean.html\n",
    "\n",
    "##### Expected outcome:   \n",
    "\n",
    "Explicit Average: (5.9 + 5.5 + 6.1 + 6.0 + 7.2) / 5 = 6.14\n",
    "\n",
    "Better Average: sum(heights) / len(heights) = 6.14\n",
    "\n",
    "Explicitly with the list 6.14\n",
    "\n",
    "Numpy Average: np.mean(heights) = 6.14"
   ]
  },
  {
   "cell_type": "code",
   "execution_count": 24,
   "metadata": {},
   "outputs": [
    {
     "name": "stdout",
     "output_type": "stream",
     "text": [
      "Explicit Average: (5.9 + 5.5 + 6.1 + 6.0 + 7.2) / 5 =  6.14\n",
      "Better Average: sum(height) / len(height) = 6.14\n",
      "Explicitly with the list  6.14\n",
      "Numpy Average: np.mean(height) =  6.14\n"
     ]
    }
   ],
   "source": [
    "# the height data\n",
    "height = [5.9, 5.5, 6.1, 6.0, 7.2]\n",
    "\n",
    "# explicit sum : avg_1\n",
    "print(\"Explicit Average: (5.9 + 5.5 + 6.1 + 6.0 + 7.2) / 5 = \", (5.9 + 5.5 + 6.1 + 6.0 + 7.2) / 5)\n",
    "\n",
    "# built-in python sum() and len() : avg_2\n",
    "print(\"Better Average: sum(height) / len(height) = {0}\".format(sum(height)/len(height)))\n",
    "\n",
    "# list and loop : avg_3\n",
    "avg_3=0\n",
    "for i in range(len(height)):\n",
    "    avg_3 += height[i]\n",
    "avg_3 = avg_3 / len(height)\n",
    "print(\"Explicitly with the list \", avg_3)\n",
    "\n",
    "# np.mean() : avg_4\n",
    "print(\"Numpy Average: np.mean(height) = \", np.mean(height))"
   ]
  },
  {
   "cell_type": "markdown",
   "metadata": {},
   "source": [
    "### 2. mean with outlier (2 decimal points %.2f %np.mean())\n",
    "##### Expected outcome:\n",
    "\n",
    "No outliers average: 6.14\n",
    "\n",
    "Data + baby average: 5.28\n",
    "\n",
    "Data + sasquatch average: 6.78"
   ]
  },
  {
   "cell_type": "code",
   "execution_count": 25,
   "metadata": {},
   "outputs": [
    {
     "name": "stdout",
     "output_type": "stream",
     "text": [
      "No outliers average:  6.14\n",
      "Data + baby average:  5.283333333333333\n",
      "Data + sasquatch average: 6.78\n"
     ]
    }
   ],
   "source": [
    "# heights with a baby included\n",
    "height_baby = [5.9, 5.5, 6.1, 6.0, 7.2, 1.0]\n",
    "\n",
    "# heights with a sasquatch included\n",
    "height_sasquatch = [5.9, 5.5, 6.1, 6.0, 7.2, 10.0]\n",
    "\n",
    "print(\"No outliers average: \", avg_3)\n",
    "print(\"Data + baby average: \", np.mean(height_baby))\n",
    "print(\"Data + sasquatch average: %.2f\" %np.mean(height_sasquatch))"
   ]
  },
  {
   "cell_type": "markdown",
   "metadata": {},
   "source": [
    "### 3. median\n",
    "https://docs.scipy.org/doc/numpy-1.14.0/reference/generated/numpy.median.html\n",
    "##### Expected outcome:\n",
    "\n",
    "Mean: 3.79\n",
    "\n",
    "Median: 3.00"
   ]
  },
  {
   "cell_type": "code",
   "execution_count": 30,
   "metadata": {},
   "outputs": [
    {
     "name": "stdout",
     "output_type": "stream",
     "text": [
      "Mean: 3.79\n",
      "Median: 3.00\n"
     ]
    }
   ],
   "source": [
    "values = [0., 1., 2., 3., 4., 5., 6., 7.]\n",
    "counts = [18, 36, 22, 58, 12, 6, 100, 7]\n",
    "# to put them in order, use for.. loop\n",
    "data=[]\n",
    "for i in range(len(counts)):\n",
    "    for j in range(counts[i]):\n",
    "        data.append(values[i])\n",
    "print(\"Mean: %.2f\" %np.mean(data))\n",
    "print(\"Median: %.2f\" %np.median(data))"
   ]
  },
  {
   "cell_type": "markdown",
   "metadata": {},
   "source": [
    "### 4. Mode\n",
    "https://docs.scipy.org/doc/scipy/reference/generated/scipy.stats.mode.html\n",
    "##### Expected outcome:\n",
    "Mode: 6"
   ]
  },
  {
   "cell_type": "code",
   "execution_count": 44,
   "metadata": {},
   "outputs": [
    {
     "name": "stdout",
     "output_type": "stream",
     "text": [
      "Mode: 6.0\n"
     ]
    }
   ],
   "source": [
    "values = [0., 1., 2., 3., 4., 5., 6., 7.]\n",
    "counts = [18, 36, 22, 58, 12, 6, 100, 7]\n",
    "# to put them in order, use for.. loop\n",
    "data=[]\n",
    "for i in range(len(counts)):\n",
    "    for j in range(counts[i]):\n",
    "        data.append(values[i])\n",
    "print(\"Mode: %.1f\"%stat.mode(data)[0]) # or, %g"
   ]
  },
  {
   "cell_type": "markdown",
   "metadata": {},
   "source": [
    "### 5. Quantile/Quartile/Percentile\n",
    "0 quartile = 0 quantile = 0 percentile\n",
    "\n",
    "1 quartile = 0.25 quantile = 25 percentile\n",
    "\n",
    "2 quartile = .5 quantile = 50 percentile (median)\n",
    "\n",
    "3 quartile = .75 quantile = 75 percentile\n",
    "\n",
    "4 quartile = 1 quantile = 100 percentile\n",
    "\n",
    "https://docs.scipy.org/doc/numpy/reference/generated/numpy.percentile.html\n",
    "##### Expected outcome:\n",
    "Mean: 3.79\n",
    "\n",
    "Median: 3.00\n",
    "\n",
    "Mode: 6.00\n",
    "\n",
    "25 percentile: 2.00\n",
    "\n",
    "50 percentile: 3.00\n",
    "\n",
    "75 percentile: 6.00\n",
    "\n",
    "100 percentile: 7.00"
   ]
  },
  {
   "cell_type": "code",
   "execution_count": 54,
   "metadata": {},
   "outputs": [
    {
     "name": "stdout",
     "output_type": "stream",
     "text": [
      "Mean: 3.79\n",
      "Median: 3.00\n",
      "Mode: 6.0\n",
      "25 percentile: 2.00\n",
      "50 percentile: 3.00\n",
      "75 percentile: 6.00\n",
      "100 percentile: 7.00\n"
     ]
    }
   ],
   "source": [
    "values = [0., 1., 2., 3., 4., 5., 6., 7.]\n",
    "counts = [18, 36, 22, 58, 12, 6, 100, 7]\n",
    "# to put them in order, use for.. loop\n",
    "data=[]\n",
    "for i in range(len(counts)):\n",
    "    for j in range(counts[i]):\n",
    "        data.append(values[i])\n",
    "\n",
    "print(\"Mean: %.2f\"%np.mean(data))\n",
    "print(\"Median: %.2f\"%np.median(data))\n",
    "print(\"Mode: %.1f\"%stat.mode(data)[0])\n",
    "print(\"25 percentile: %.2f\"%np.percentile(data, 25))\n",
    "print(\"50 percentile: %.2f\"%np.percentile(data, 50))\n",
    "print(\"75 percentile: %.2f\"%np.percentile(data, 75))\n",
    "print(\"100 percentile: %.2f\"%np.percentile(data, 100))"
   ]
  },
  {
   "cell_type": "markdown",
   "metadata": {},
   "source": [
    "### Visualize: plt.boxplot(list), plt.hist(list, # of bin)"
   ]
  },
  {
   "cell_type": "code",
   "execution_count": 60,
   "metadata": {},
   "outputs": [
    {
     "data": {
      "text/plain": [
       "(array([ 18.,  36.,  22.,  58.,  12.,   6., 100.,   7.]),\n",
       " array([0.   , 0.875, 1.75 , 2.625, 3.5  , 4.375, 5.25 , 6.125, 7.   ]),\n",
       " <a list of 8 Patch objects>)"
      ]
     },
     "execution_count": 60,
     "metadata": {},
     "output_type": "execute_result"
    },
    {
     "data": {
      "image/png": "[encoded data removed]",
      "text/plain": [
       "<Figure size 432x288 with 1 Axes>"
      ]
     },
     "metadata": {},
     "output_type": "display_data"
    }
   ],
   "source": [
    "# histogram with a data list, # of bin, patches\n",
    "plt.hist(data, 8)"
   ]
  },
  {
   "cell_type": "code",
   "execution_count": 62,
   "metadata": {},
   "outputs": [
    {
     "data": {
      "text/plain": [
       "{'boxes': [<matplotlib.lines.Line2D at 0x1146f8630>],\n",
       " 'caps': [<matplotlib.lines.Line2D at 0x114703080>,\n",
       "  <matplotlib.lines.Line2D at 0x1147034a8>],\n",
       " 'fliers': [<matplotlib.lines.Line2D at 0x114703cf8>],\n",
       " 'means': [],\n",
       " 'medians': [<matplotlib.lines.Line2D at 0x1147038d0>],\n",
       " 'whiskers': [<matplotlib.lines.Line2D at 0x1146f8780>,\n",
       "  <matplotlib.lines.Line2D at 0x1146f8c18>]}"
      ]
     },
     "execution_count": 62,
     "metadata": {},
     "output_type": "execute_result"
    },
    {
     "data": {
      "image/png": "[encoded data removed]",
      "text/plain": [
       "<Figure size 432x288 with 1 Axes>"
      ]
     },
     "metadata": {},
     "output_type": "display_data"
    }
   ],
   "source": [
    "# box plot for quantiles.\n",
    "plt.boxplot(data)"
   ]
  },
  {
   "cell_type": "markdown",
   "metadata": {},
   "source": [
    "### Extra\n",
    "Use 'phone_data.csv' from ch01, find the central tendency of duration."
   ]
  },
  {
   "cell_type": "code",
   "execution_count": null,
   "metadata": {},
   "outputs": [],
   "source": []
  }
 ],
 "metadata": {
  "kernelspec": {
   "display_name": "Python 3",
   "language": "python",
   "name": "python3"
  },
  "language_info": {
   "codemirror_mode": {
    "name": "ipython",
    "version": 3
   },
   "file_extension": ".py",
   "mimetype": "text/x-python",
   "name": "python",
   "nbconvert_exporter": "python",
   "pygments_lexer": "ipython3",
   "version": "3.6.5"
  }
 },
 "nbformat": 4,
 "nbformat_minor": 2
}
