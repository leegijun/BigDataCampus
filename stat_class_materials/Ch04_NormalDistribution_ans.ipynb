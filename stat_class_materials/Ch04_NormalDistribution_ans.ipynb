{
 "cells": [
  {
   "cell_type": "markdown",
   "metadata": {},
   "source": [
    "### Task\n",
    "1. Import numpy, scipy.stats, matplotlib.pyplot"
   ]
  },
  {
   "cell_type": "code",
   "execution_count": null,
   "metadata": {},
   "outputs": [],
   "source": []
  },
  {
   "cell_type": "markdown",
   "metadata": {},
   "source": [
    "### Task \n",
    "1. Generate 100 random numbers and 100 normally distributed random numbers. And call them data_1 and data_2, respectively.\n",
    "\n",
    "https://docs.scipy.org/doc/numpy/reference/generated/numpy.random.rand.html\n",
    "\n",
    "https://docs.scipy.org/doc/numpy/reference/generated/numpy.random.randn.html\n",
    "\n",
    "2. Seed the random number generator. https://docs.scipy.org/doc/numpy/reference/generated/numpy.random.seed.html"
   ]
  },
  {
   "cell_type": "code",
   "execution_count": null,
   "metadata": {},
   "outputs": [],
   "source": []
  },
  {
   "cell_type": "markdown",
   "metadata": {},
   "source": [
    "### Task\n",
    "1. Find mean and std. dev.\n",
    "\n",
    "##### Expected outcome (actual values may be different.)\n",
    "\n",
    "mean of data_1: -0.03\n",
    "\n",
    "std.dev of data_1: 0.30\n",
    "\n",
    "mean of data_2: -0.00\n",
    "\n",
    "std.dev of data_2: 0.91"
   ]
  },
  {
   "cell_type": "code",
   "execution_count": null,
   "metadata": {},
   "outputs": [],
   "source": []
  },
  {
   "cell_type": "markdown",
   "metadata": {},
   "source": [
    "## Visual Normality Check \n",
    "## 1. Histogram\n",
    "### Task\n",
    "1. Draw a histogram for each data set.\n",
    "2. Check if any of them is normally distributed.\n",
    "\n",
    "https://docs.scipy.org/doc/scipy/reference/generated/scipy.stats.norm.html"
   ]
  },
  {
   "cell_type": "code",
   "execution_count": 1,
   "metadata": {},
   "outputs": [],
   "source": [
    "# histogram plot\n",
    "\n",
    "# probability density function"
   ]
  },
  {
   "cell_type": "markdown",
   "metadata": {},
   "source": [
    "## 2. q-q plot\n",
    "### Task\n",
    "1. Import qqplot.\n",
    "\n",
    "http://www.statsmodels.org/dev/generated/statsmodels.graphics.gofplots.qqplot.html\n",
    "\n",
    "2. qqplot them.\n",
    "3. See what happens when sample sizes change for each."
   ]
  },
  {
   "cell_type": "code",
   "execution_count": null,
   "metadata": {},
   "outputs": [],
   "source": []
  },
  {
   "cell_type": "markdown",
   "metadata": {},
   "source": [
    "## Statistical Test\n",
    "## 1. shapiro()\n",
    "\n",
    "### Task\n",
    "1. shapiro() them both and compare.\n",
    "https://docs.scipy.org/doc/scipy/reference/generated/scipy.stats.shapiro.html\n",
    "\n",
    "##### Expected outcome (actual values may be different.)\n",
    "\n",
    "stat_1: 0.9409, p_1: 0.0002\n",
    "\n",
    "stat_2: 0.9887, p_2: 0.5616\n",
    "\n",
    "For data_1 : \n",
    "\n",
    "Sample does not look Gaussian.\n",
    "\n",
    "For data_2 : \n",
    "\n",
    "It can be said that it is normally distributed."
   ]
  },
  {
   "cell_type": "code",
   "execution_count": null,
   "metadata": {},
   "outputs": [],
   "source": []
  },
  {
   "cell_type": "markdown",
   "metadata": {},
   "source": [
    "## 2. normaltest()\n",
    "### Task\n",
    "1. normaltest() them both and compare. https://docs.scipy.org/doc/scipy/reference/generated/scipy.stats.normaltest.html\n",
    "\n",
    "##### Expected outcome\n",
    "\n",
    "stat_1: 49.4264, p_1: 0.0000\n",
    "\n",
    "stat_2: 0.9779, p_2: 0.6133\n",
    "\n",
    "For data_1:\n",
    "\n",
    "Sample does not look Gaussian.\n",
    "\n",
    "For data_2 : \n",
    "\n",
    "It can be said that it is normally distributed."
   ]
  },
  {
   "cell_type": "code",
   "execution_count": null,
   "metadata": {},
   "outputs": [],
   "source": []
  },
  {
   "cell_type": "markdown",
   "metadata": {},
   "source": [
    "## 3. anderson()\n",
    "### Task \n",
    "1. anderson() them both and compare. https://docs.scipy.org/doc/scipy/reference/generated/scipy.stats.anderson.html\n",
    "\n",
    "##### Expected outcome\n",
    "\n",
    "data_1: Sample does not look Gaussian.\n",
    "\n",
    "data_1: Sample does not look Gaussian.\n",
    "\n",
    "data_1: Sample does not look Gaussian.\n",
    "\n",
    "data_1: Sample does not look Gaussian.\n",
    "\n",
    "data_1: Sample does not look Gaussian.\n",
    "\n",
    "data_2: It can be said that it is normally distributed.\n",
    "\n",
    "data_2: It can be said that it is normally distributed.\n",
    "\n",
    "data_2: It can be said that it is normally distributed.\n",
    "\n",
    "data_2: It can be said that it is normally distributed.\n",
    "\n",
    "data_2: It can be said that it is normally distributed."
   ]
  },
  {
   "cell_type": "code",
   "execution_count": null,
   "metadata": {},
   "outputs": [],
   "source": []
  }
 ],
 "metadata": {
  "kernelspec": {
   "display_name": "Python 3",
   "language": "python",
   "name": "python3"
  },
  "language_info": {
   "codemirror_mode": {
    "name": "ipython",
    "version": 3
   },
   "file_extension": ".py",
   "mimetype": "text/x-python",
   "name": "python",
   "nbconvert_exporter": "python",
   "pygments_lexer": "ipython3",
   "version": "3.6.5"
  }
 },
 "nbformat": 4,
 "nbformat_minor": 2
}
