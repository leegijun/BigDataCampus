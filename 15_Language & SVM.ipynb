{
 "cells": [
  {
   "cell_type": "markdown",
   "metadata": {},
   "source": [
    "# # 언어 판별 프로그램"
   ]
  },
  {
   "cell_type": "markdown",
   "metadata": {},
   "source": [
    "- os.path.basename(): 입력받은 경로의 기본 이름(base name)을 반환\n",
    "- match() 메서드: 문자열의 처음부터 정규식과 매치되는지 조사\n",
    "- group(): match 객체의 메서드. 매치된 문자열을 리턴함\n",
    "- {2,}:반복횟수가2이상인경우"
   ]
  },
  {
   "cell_type": "markdown",
   "metadata": {},
   "source": [
    "- ord(): 문자를 아스키(ASCII) 코드 번호로 변환 함수\n",
    "\n",
    "- 단순히알파벳의개수로하지않는이유\n",
    "\n",
    "    만약에 기사가 특정 기사보다 2배로 길다면, 그만큼 많은 글이 쓰여있을 것이고, 그에 해당하는 알파벳 또한 2배정도로 더 많이 출현할 것이므로 텍스트 파일에 있는 문자 수가 다르므로 출현 횟수를 비교하면 동일한 규칙이 적용되지 않기 때문\n",
    "    \n",
    "    이를 정규화(normalize)라고 부르며, 해당 이유로 정규화(normalize)라는 기법을 이용해야 함"
   ]
  },
  {
   "cell_type": "code",
   "execution_count": 1,
   "metadata": {
    "collapsed": true
   },
   "outputs": [],
   "source": [
    "from sklearn import svm, metrics\n",
    "import glob, os.path, re, json"
   ]
  },
  {
   "cell_type": "code",
   "execution_count": 2,
   "metadata": {
    "collapsed": true
   },
   "outputs": [],
   "source": [
    "# 텍스트를 읽어 들이고 출현 빈도 조사하기\n",
    "\n",
    "def check_freq(fname):\n",
    "    name = os.path.basename(fname)\n",
    "    lang = re.match(r'^[a-z]{2,}', name).group()\n",
    "    \n",
    "    with open(fname, \"r\", encoding =\"utf-8\") as f:\n",
    "        text = f.read()\n",
    "    text = text.lower() # 소문자 변환\n",
    "    \n",
    "    # 숫자 세기 변수(cnt) 초기화하기\n",
    "    cnt = [0 for n in range(0,26)]\n",
    "    \n",
    "    code_a = ord(\"a\")\n",
    "    code_z = ord(\"z\")\n",
    "    \n",
    "    # 알파벳 출현 횟수 구하기\n",
    "    for ch in text:\n",
    "        n = ord(ch)\n",
    "        if code_a <= n <= code_z:\n",
    "            cnt[n - code_a] += 1\n",
    "            \n",
    "    # 정규화하기\n",
    "    total = sum(cnt)\n",
    "    freq = list(map(lambda n: n / total, cnt))\n",
    "    \n",
    "    return (freq, lang)"
   ]
  },
  {
   "cell_type": "code",
   "execution_count": 8,
   "metadata": {
    "collapsed": true
   },
   "outputs": [],
   "source": [
    "# 각 파일 처리하기\n",
    "def load_files(path):\n",
    "    freqs = []\n",
    "    labels = []\n",
    "    file_list = glob.glob(path)\n",
    "    \n",
    "    for fname in file_list:\n",
    "        r = check_freq(fname)\n",
    "        freqs.append(r[0])\n",
    "        labels.append(r[1])\n",
    "        \n",
    "    return {\"freqs\":freqs, \"labels\":labels}\n",
    "\n",
    "data = load_files(\"./lang/train/*.txt\")\n",
    "test = load_files(\"./lang/test/*.txt\")"
   ]
  },
  {
   "cell_type": "code",
   "execution_count": 9,
   "metadata": {
    "collapsed": false
   },
   "outputs": [],
   "source": [
    "# 이후를 대비해서 JSON으로 결과 저장하기\n",
    "\n",
    "with open(\"./lang/freq.json\", \"w\", encoding=\"utf-8\") as fp:\n",
    "    json.dump([data, test], fp)"
   ]
  },
  {
   "cell_type": "markdown",
   "metadata": {},
   "source": [
    "- glob.glob(): 디렉터리에 있는 파일들을 리스트로 만들어 리턴 • json.dump(): 데이터를 JSON 포맷으로 인코딩함"
   ]
  },
  {
   "cell_type": "code",
   "execution_count": 10,
   "metadata": {
    "collapsed": false
   },
   "outputs": [
    {
     "data": {
      "text/plain": [
       "SVC(C=1.0, cache_size=200, class_weight=None, coef0=0.0,\n",
       "  decision_function_shape='ovr', degree=3, gamma='auto', kernel='rbf',\n",
       "  max_iter=-1, probability=False, random_state=None, shrinking=True,\n",
       "  tol=0.001, verbose=False)"
      ]
     },
     "execution_count": 10,
     "metadata": {},
     "output_type": "execute_result"
    }
   ],
   "source": [
    "# 학습하기\n",
    "clf = svm.SVC()\n",
    "clf.fit(data[\"freqs\"], data[\"labels\"])"
   ]
  },
  {
   "cell_type": "code",
   "execution_count": 11,
   "metadata": {
    "collapsed": true
   },
   "outputs": [],
   "source": [
    "# 예측하기\n",
    "predict = clf.predict(test[\"freqs\"])"
   ]
  },
  {
   "cell_type": "code",
   "execution_count": 12,
   "metadata": {
    "collapsed": false
   },
   "outputs": [
    {
     "name": "stdout",
     "output_type": "stream",
     "text": [
      "정답률 = 0.875\n",
      "리포트 =\n",
      "             precision    recall  f1-score   support\n",
      "\n",
      "         en       0.67      1.00      0.80         2\n",
      "         fr       1.00      1.00      1.00         2\n",
      "         id       1.00      0.50      0.67         2\n",
      "         tl       1.00      1.00      1.00         2\n",
      "\n",
      "avg / total       0.92      0.88      0.87         8\n",
      "\n"
     ]
    }
   ],
   "source": [
    "# 결과 테스트하기\n",
    "ac_score = metrics.accuracy_score(test[\"labels\"], predict)\n",
    "cl_report = metrics.classification_report(test[\"labels\"], predict)\n",
    "\n",
    "print(\"정답률 =\", ac_score)\n",
    "print(\"리포트 =\")\n",
    "print(cl_report)"
   ]
  },
  {
   "cell_type": "markdown",
   "metadata": {},
   "source": [
    "# # 데이터마다의 분포를 그래프로 확인하기"
   ]
  },
  {
   "cell_type": "code",
   "execution_count": 13,
   "metadata": {
    "collapsed": true
   },
   "outputs": [],
   "source": [
    "import matplotlib.pyplot as plt\n",
    "import pandas as pd\n",
    "import json"
   ]
  },
  {
   "cell_type": "markdown",
   "metadata": {},
   "source": [
    "### (1) 알파벳 출현 빈도 데이터 읽어 들이기"
   ]
  },
  {
   "cell_type": "code",
   "execution_count": 15,
   "metadata": {
    "collapsed": true
   },
   "outputs": [],
   "source": [
    "# 이후를 대비해서 JSON으로 결과 저장하기\n",
    "\n",
    "with open(\"./lang/freq.json\", \"r\", encoding=\"utf-8\") as fp:\n",
    "    freq = json.load(fp)"
   ]
  },
  {
   "cell_type": "markdown",
   "metadata": {},
   "source": [
    "### (2) 언어마다 계산하기"
   ]
  },
  {
   "cell_type": "markdown",
   "metadata": {},
   "source": [
    "- enumerate 함수\n",
    "\n",
    "    리스트가 있는 경우 순서와 리스트의 값을 전달하는 기능\n",
    "    \n",
    "    enumerate는 “열거하다”라는 뜻이다. 이 함수는 순서가 있는 자료형(리스트, 튜플, 문자열)을 입력으로 받아 인덱스 값을 포함하는 enumerate 객체를 리턴\n",
    "    \n",
    "    보통 enumerate 함수는 아래 예제처럼 for문과 함께 자주 사용됨"
   ]
  },
  {
   "cell_type": "code",
   "execution_count": 17,
   "metadata": {
    "collapsed": false
   },
   "outputs": [],
   "source": [
    "lang_dic = {}\n",
    "\n",
    "for i, lbl in enumerate(freq[0][\"labels\"]):\n",
    "    fq = freq[0][\"freqs\"][i]\n",
    "    \n",
    "    if not (lbl in lang_dic):\n",
    "        lang_dic[lbl] = fq\n",
    "        continue\n",
    "        \n",
    "    for idx, v in enumerate(fq):\n",
    "        lang_dic[lbl][idx] = (lang_dic[lbl][idx] + v) / 2"
   ]
  },
  {
   "cell_type": "code",
   "execution_count": 18,
   "metadata": {
    "collapsed": false,
    "scrolled": true
   },
   "outputs": [
    {
     "data": {
      "text/plain": [
       "{'en': [0.07862044537042095,\n",
       "  0.017608945764586756,\n",
       "  0.03614291848080546,\n",
       "  0.03831451940541013,\n",
       "  0.1280730727390625,\n",
       "  0.016649613692323727,\n",
       "  0.02705248110151802,\n",
       "  0.03230504934638093,\n",
       "  0.07872048011446706,\n",
       "  0.0024511785116498146,\n",
       "  0.007166187866433225,\n",
       "  0.04741120085108196,\n",
       "  0.024145502700853992,\n",
       "  0.06288384005786753,\n",
       "  0.07437577201317366,\n",
       "  0.019614834903663274,\n",
       "  0.003208220472484013,\n",
       "  0.07649767969640853,\n",
       "  0.07379931869167551,\n",
       "  0.08102221517591979,\n",
       "  0.028900481748630576,\n",
       "  0.013771507429552146,\n",
       "  0.014434523751604382,\n",
       "  0.001802103986607091,\n",
       "  0.014389989789255495,\n",
       "  0.0006379163381634782],\n",
       " 'fr': [0.07646246064551945,\n",
       "  0.01380194004839181,\n",
       "  0.035956021450875675,\n",
       "  0.04666988003580362,\n",
       "  0.14969025236132688,\n",
       "  0.0118619163379322,\n",
       "  0.01241795753866967,\n",
       "  0.013494765015921967,\n",
       "  0.07477608855354578,\n",
       "  0.0027199367601383265,\n",
       "  0.0018894820040003726,\n",
       "  0.06286208991701384,\n",
       "  0.032823338468148125,\n",
       "  0.07257089865718583,\n",
       "  0.05800213928274973,\n",
       "  0.028456876339355897,\n",
       "  0.006396906447169112,\n",
       "  0.07614103590063959,\n",
       "  0.0783033625550945,\n",
       "  0.0682850740822342,\n",
       "  0.051444413153282964,\n",
       "  0.012087469012960705,\n",
       "  0.003060014821868984,\n",
       "  0.0041642083736141535,\n",
       "  0.005075274203737101,\n",
       "  0.0005861980328195072],\n",
       " 'id': [0.14391694825904072,\n",
       "  0.028469929387639467,\n",
       "  0.011012484278585706,\n",
       "  0.03679923890011822,\n",
       "  0.09171085230045309,\n",
       "  0.007415093483542896,\n",
       "  0.04951801222461221,\n",
       "  0.01618023877577638,\n",
       "  0.09991381617772893,\n",
       "  0.0052206969740827645,\n",
       "  0.03167188872658565,\n",
       "  0.04316008951872166,\n",
       "  0.03438358946716705,\n",
       "  0.0884892590438508,\n",
       "  0.037228393025376505,\n",
       "  0.028619214693825945,\n",
       "  1.1159989611064217e-05,\n",
       "  0.06321217767368545,\n",
       "  0.06773114502105321,\n",
       "  0.04859527209926667,\n",
       "  0.0430031622151625,\n",
       "  0.004531676499872673,\n",
       "  0.00551233288276988,\n",
       "  0.0011552307400584244,\n",
       "  0.011499171109360879,\n",
       "  0.0010389265320512617],\n",
       " 'tl': [0.21572531426598718,\n",
       "  0.022360238497059773,\n",
       "  0.009065030898986443,\n",
       "  0.01592029445164954,\n",
       "  0.0318629221834637,\n",
       "  0.0031995738486781415,\n",
       "  0.08677554529949613,\n",
       "  0.01712487793422176,\n",
       "  0.0833028043919527,\n",
       "  0.0013112129926765269,\n",
       "  0.027721025847154204,\n",
       "  0.04855267989454891,\n",
       "  0.03426367593753593,\n",
       "  0.1256914963098222,\n",
       "  0.04863961110812076,\n",
       "  0.03150918316520798,\n",
       "  0.000669253517524097,\n",
       "  0.024510371779616562,\n",
       "  0.05244886691608103,\n",
       "  0.05194888283651229,\n",
       "  0.02931530328409314,\n",
       "  0.002390534483699889,\n",
       "  0.010755317875545631,\n",
       "  0.0004694972308790719,\n",
       "  0.023370162741112636,\n",
       "  0.0010963223083738168]}"
      ]
     },
     "execution_count": 18,
     "metadata": {},
     "output_type": "execute_result"
    }
   ],
   "source": [
    "lang_dic"
   ]
  },
  {
   "cell_type": "markdown",
   "metadata": {},
   "source": [
    "### (3) Pandas의 DataFrame에 데이터 넣기"
   ]
  },
  {
   "cell_type": "code",
   "execution_count": 20,
   "metadata": {
    "collapsed": false
   },
   "outputs": [],
   "source": [
    "asclist = [[chr(n) for n in range(97,97+26)]]\n",
    "df = pd.DataFrame(lang_dic, index = asclist)"
   ]
  },
  {
   "cell_type": "code",
   "execution_count": 21,
   "metadata": {
    "collapsed": false
   },
   "outputs": [
    {
     "data": {
      "text/html": [
       "<div>\n",
       "<style scoped>\n",
       "    .dataframe tbody tr th:only-of-type {\n",
       "        vertical-align: middle;\n",
       "    }\n",
       "\n",
       "    .dataframe tbody tr th {\n",
       "        vertical-align: top;\n",
       "    }\n",
       "\n",
       "    .dataframe thead th {\n",
       "        text-align: right;\n",
       "    }\n",
       "</style>\n",
       "<table border=\"1\" class=\"dataframe\">\n",
       "  <thead>\n",
       "    <tr style=\"text-align: right;\">\n",
       "      <th></th>\n",
       "      <th>en</th>\n",
       "      <th>fr</th>\n",
       "      <th>id</th>\n",
       "      <th>tl</th>\n",
       "    </tr>\n",
       "  </thead>\n",
       "  <tbody>\n",
       "    <tr>\n",
       "      <th>a</th>\n",
       "      <td>0.078620</td>\n",
       "      <td>0.076462</td>\n",
       "      <td>0.143917</td>\n",
       "      <td>0.215725</td>\n",
       "    </tr>\n",
       "    <tr>\n",
       "      <th>b</th>\n",
       "      <td>0.017609</td>\n",
       "      <td>0.013802</td>\n",
       "      <td>0.028470</td>\n",
       "      <td>0.022360</td>\n",
       "    </tr>\n",
       "    <tr>\n",
       "      <th>c</th>\n",
       "      <td>0.036143</td>\n",
       "      <td>0.035956</td>\n",
       "      <td>0.011012</td>\n",
       "      <td>0.009065</td>\n",
       "    </tr>\n",
       "    <tr>\n",
       "      <th>d</th>\n",
       "      <td>0.038315</td>\n",
       "      <td>0.046670</td>\n",
       "      <td>0.036799</td>\n",
       "      <td>0.015920</td>\n",
       "    </tr>\n",
       "    <tr>\n",
       "      <th>e</th>\n",
       "      <td>0.128073</td>\n",
       "      <td>0.149690</td>\n",
       "      <td>0.091711</td>\n",
       "      <td>0.031863</td>\n",
       "    </tr>\n",
       "    <tr>\n",
       "      <th>f</th>\n",
       "      <td>0.016650</td>\n",
       "      <td>0.011862</td>\n",
       "      <td>0.007415</td>\n",
       "      <td>0.003200</td>\n",
       "    </tr>\n",
       "    <tr>\n",
       "      <th>g</th>\n",
       "      <td>0.027052</td>\n",
       "      <td>0.012418</td>\n",
       "      <td>0.049518</td>\n",
       "      <td>0.086776</td>\n",
       "    </tr>\n",
       "    <tr>\n",
       "      <th>h</th>\n",
       "      <td>0.032305</td>\n",
       "      <td>0.013495</td>\n",
       "      <td>0.016180</td>\n",
       "      <td>0.017125</td>\n",
       "    </tr>\n",
       "    <tr>\n",
       "      <th>i</th>\n",
       "      <td>0.078720</td>\n",
       "      <td>0.074776</td>\n",
       "      <td>0.099914</td>\n",
       "      <td>0.083303</td>\n",
       "    </tr>\n",
       "    <tr>\n",
       "      <th>j</th>\n",
       "      <td>0.002451</td>\n",
       "      <td>0.002720</td>\n",
       "      <td>0.005221</td>\n",
       "      <td>0.001311</td>\n",
       "    </tr>\n",
       "    <tr>\n",
       "      <th>k</th>\n",
       "      <td>0.007166</td>\n",
       "      <td>0.001889</td>\n",
       "      <td>0.031672</td>\n",
       "      <td>0.027721</td>\n",
       "    </tr>\n",
       "    <tr>\n",
       "      <th>l</th>\n",
       "      <td>0.047411</td>\n",
       "      <td>0.062862</td>\n",
       "      <td>0.043160</td>\n",
       "      <td>0.048553</td>\n",
       "    </tr>\n",
       "    <tr>\n",
       "      <th>m</th>\n",
       "      <td>0.024146</td>\n",
       "      <td>0.032823</td>\n",
       "      <td>0.034384</td>\n",
       "      <td>0.034264</td>\n",
       "    </tr>\n",
       "    <tr>\n",
       "      <th>n</th>\n",
       "      <td>0.062884</td>\n",
       "      <td>0.072571</td>\n",
       "      <td>0.088489</td>\n",
       "      <td>0.125691</td>\n",
       "    </tr>\n",
       "    <tr>\n",
       "      <th>o</th>\n",
       "      <td>0.074376</td>\n",
       "      <td>0.058002</td>\n",
       "      <td>0.037228</td>\n",
       "      <td>0.048640</td>\n",
       "    </tr>\n",
       "    <tr>\n",
       "      <th>p</th>\n",
       "      <td>0.019615</td>\n",
       "      <td>0.028457</td>\n",
       "      <td>0.028619</td>\n",
       "      <td>0.031509</td>\n",
       "    </tr>\n",
       "    <tr>\n",
       "      <th>q</th>\n",
       "      <td>0.003208</td>\n",
       "      <td>0.006397</td>\n",
       "      <td>0.000011</td>\n",
       "      <td>0.000669</td>\n",
       "    </tr>\n",
       "    <tr>\n",
       "      <th>r</th>\n",
       "      <td>0.076498</td>\n",
       "      <td>0.076141</td>\n",
       "      <td>0.063212</td>\n",
       "      <td>0.024510</td>\n",
       "    </tr>\n",
       "    <tr>\n",
       "      <th>s</th>\n",
       "      <td>0.073799</td>\n",
       "      <td>0.078303</td>\n",
       "      <td>0.067731</td>\n",
       "      <td>0.052449</td>\n",
       "    </tr>\n",
       "    <tr>\n",
       "      <th>t</th>\n",
       "      <td>0.081022</td>\n",
       "      <td>0.068285</td>\n",
       "      <td>0.048595</td>\n",
       "      <td>0.051949</td>\n",
       "    </tr>\n",
       "    <tr>\n",
       "      <th>u</th>\n",
       "      <td>0.028900</td>\n",
       "      <td>0.051444</td>\n",
       "      <td>0.043003</td>\n",
       "      <td>0.029315</td>\n",
       "    </tr>\n",
       "    <tr>\n",
       "      <th>v</th>\n",
       "      <td>0.013772</td>\n",
       "      <td>0.012087</td>\n",
       "      <td>0.004532</td>\n",
       "      <td>0.002391</td>\n",
       "    </tr>\n",
       "    <tr>\n",
       "      <th>w</th>\n",
       "      <td>0.014435</td>\n",
       "      <td>0.003060</td>\n",
       "      <td>0.005512</td>\n",
       "      <td>0.010755</td>\n",
       "    </tr>\n",
       "    <tr>\n",
       "      <th>x</th>\n",
       "      <td>0.001802</td>\n",
       "      <td>0.004164</td>\n",
       "      <td>0.001155</td>\n",
       "      <td>0.000469</td>\n",
       "    </tr>\n",
       "    <tr>\n",
       "      <th>y</th>\n",
       "      <td>0.014390</td>\n",
       "      <td>0.005075</td>\n",
       "      <td>0.011499</td>\n",
       "      <td>0.023370</td>\n",
       "    </tr>\n",
       "    <tr>\n",
       "      <th>z</th>\n",
       "      <td>0.000638</td>\n",
       "      <td>0.000586</td>\n",
       "      <td>0.001039</td>\n",
       "      <td>0.001096</td>\n",
       "    </tr>\n",
       "  </tbody>\n",
       "</table>\n",
       "</div>"
      ],
      "text/plain": [
       "         en        fr        id        tl\n",
       "a  0.078620  0.076462  0.143917  0.215725\n",
       "b  0.017609  0.013802  0.028470  0.022360\n",
       "c  0.036143  0.035956  0.011012  0.009065\n",
       "d  0.038315  0.046670  0.036799  0.015920\n",
       "e  0.128073  0.149690  0.091711  0.031863\n",
       "f  0.016650  0.011862  0.007415  0.003200\n",
       "g  0.027052  0.012418  0.049518  0.086776\n",
       "h  0.032305  0.013495  0.016180  0.017125\n",
       "i  0.078720  0.074776  0.099914  0.083303\n",
       "j  0.002451  0.002720  0.005221  0.001311\n",
       "k  0.007166  0.001889  0.031672  0.027721\n",
       "l  0.047411  0.062862  0.043160  0.048553\n",
       "m  0.024146  0.032823  0.034384  0.034264\n",
       "n  0.062884  0.072571  0.088489  0.125691\n",
       "o  0.074376  0.058002  0.037228  0.048640\n",
       "p  0.019615  0.028457  0.028619  0.031509\n",
       "q  0.003208  0.006397  0.000011  0.000669\n",
       "r  0.076498  0.076141  0.063212  0.024510\n",
       "s  0.073799  0.078303  0.067731  0.052449\n",
       "t  0.081022  0.068285  0.048595  0.051949\n",
       "u  0.028900  0.051444  0.043003  0.029315\n",
       "v  0.013772  0.012087  0.004532  0.002391\n",
       "w  0.014435  0.003060  0.005512  0.010755\n",
       "x  0.001802  0.004164  0.001155  0.000469\n",
       "y  0.014390  0.005075  0.011499  0.023370\n",
       "z  0.000638  0.000586  0.001039  0.001096"
      ]
     },
     "execution_count": 21,
     "metadata": {},
     "output_type": "execute_result"
    }
   ],
   "source": [
    "df"
   ]
  },
  {
   "cell_type": "markdown",
   "metadata": {},
   "source": [
    "### (4) 그래프 그리기"
   ]
  },
  {
   "cell_type": "markdown",
   "metadata": {},
   "source": [
    "- plt.style.use(‘ggplot’): ‘ggplot’ 스타일 사용\n",
    "\n",
    "\n",
    "- DataFrame.plot(): matplotlib을 이용해 데이터프레임의 plot을 만듦\n",
    "\n",
    "        kind: line, bar, barh, hist, box, kde, density, area, pie, scatter, hexbin \n",
    "\n",
    "        subplots: 각각의 컬럼별로 별도의 subplot을 만듦\n",
    "\n",
    "        ylim: y축 범위 조정, ex) (0, 0.15)는 0에서 0.15까지\n",
    "\n",
    "\n",
    "- matplotlib.pyplot.savefig(): 현재의 이미지를 저장"
   ]
  },
  {
   "cell_type": "code",
   "execution_count": 28,
   "metadata": {
    "collapsed": false,
    "scrolled": true
   },
   "outputs": [
    {
     "data": {
      "image/png": "[encoded data removed]",
      "text/plain": [
       "<matplotlib.figure.Figure at 0x1093623c8>"
      ]
     },
     "metadata": {},
     "output_type": "display_data"
    }
   ],
   "source": [
    "%matplotlib inline\n",
    "\n",
    "plt.style.use('ggplot')\n",
    "df.plot(kind=\"bar\", subplots = True, ylim=(0, 0.15))\n",
    "plt.savefig(\"lang-plot.png\")"
   ]
  },
  {
   "cell_type": "code",
   "execution_count": 29,
   "metadata": {
    "collapsed": false,
    "scrolled": true
   },
   "outputs": [
    {
     "data": {
      "text/html": [
       "<div>\n",
       "<style scoped>\n",
       "    .dataframe tbody tr th:only-of-type {\n",
       "        vertical-align: middle;\n",
       "    }\n",
       "\n",
       "    .dataframe tbody tr th {\n",
       "        vertical-align: top;\n",
       "    }\n",
       "\n",
       "    .dataframe thead th {\n",
       "        text-align: right;\n",
       "    }\n",
       "</style>\n",
       "<table border=\"1\" class=\"dataframe\">\n",
       "  <thead>\n",
       "    <tr style=\"text-align: right;\">\n",
       "      <th></th>\n",
       "      <th>en</th>\n",
       "      <th>fr</th>\n",
       "      <th>id</th>\n",
       "      <th>tl</th>\n",
       "    </tr>\n",
       "  </thead>\n",
       "  <tbody>\n",
       "    <tr>\n",
       "      <th>a</th>\n",
       "      <td>0.078620</td>\n",
       "      <td>0.076462</td>\n",
       "      <td>0.143917</td>\n",
       "      <td>0.215725</td>\n",
       "    </tr>\n",
       "    <tr>\n",
       "      <th>b</th>\n",
       "      <td>0.017609</td>\n",
       "      <td>0.013802</td>\n",
       "      <td>0.028470</td>\n",
       "      <td>0.022360</td>\n",
       "    </tr>\n",
       "    <tr>\n",
       "      <th>c</th>\n",
       "      <td>0.036143</td>\n",
       "      <td>0.035956</td>\n",
       "      <td>0.011012</td>\n",
       "      <td>0.009065</td>\n",
       "    </tr>\n",
       "    <tr>\n",
       "      <th>d</th>\n",
       "      <td>0.038315</td>\n",
       "      <td>0.046670</td>\n",
       "      <td>0.036799</td>\n",
       "      <td>0.015920</td>\n",
       "    </tr>\n",
       "    <tr>\n",
       "      <th>e</th>\n",
       "      <td>0.128073</td>\n",
       "      <td>0.149690</td>\n",
       "      <td>0.091711</td>\n",
       "      <td>0.031863</td>\n",
       "    </tr>\n",
       "    <tr>\n",
       "      <th>f</th>\n",
       "      <td>0.016650</td>\n",
       "      <td>0.011862</td>\n",
       "      <td>0.007415</td>\n",
       "      <td>0.003200</td>\n",
       "    </tr>\n",
       "    <tr>\n",
       "      <th>g</th>\n",
       "      <td>0.027052</td>\n",
       "      <td>0.012418</td>\n",
       "      <td>0.049518</td>\n",
       "      <td>0.086776</td>\n",
       "    </tr>\n",
       "    <tr>\n",
       "      <th>h</th>\n",
       "      <td>0.032305</td>\n",
       "      <td>0.013495</td>\n",
       "      <td>0.016180</td>\n",
       "      <td>0.017125</td>\n",
       "    </tr>\n",
       "    <tr>\n",
       "      <th>i</th>\n",
       "      <td>0.078720</td>\n",
       "      <td>0.074776</td>\n",
       "      <td>0.099914</td>\n",
       "      <td>0.083303</td>\n",
       "    </tr>\n",
       "    <tr>\n",
       "      <th>j</th>\n",
       "      <td>0.002451</td>\n",
       "      <td>0.002720</td>\n",
       "      <td>0.005221</td>\n",
       "      <td>0.001311</td>\n",
       "    </tr>\n",
       "    <tr>\n",
       "      <th>k</th>\n",
       "      <td>0.007166</td>\n",
       "      <td>0.001889</td>\n",
       "      <td>0.031672</td>\n",
       "      <td>0.027721</td>\n",
       "    </tr>\n",
       "    <tr>\n",
       "      <th>l</th>\n",
       "      <td>0.047411</td>\n",
       "      <td>0.062862</td>\n",
       "      <td>0.043160</td>\n",
       "      <td>0.048553</td>\n",
       "    </tr>\n",
       "    <tr>\n",
       "      <th>m</th>\n",
       "      <td>0.024146</td>\n",
       "      <td>0.032823</td>\n",
       "      <td>0.034384</td>\n",
       "      <td>0.034264</td>\n",
       "    </tr>\n",
       "    <tr>\n",
       "      <th>n</th>\n",
       "      <td>0.062884</td>\n",
       "      <td>0.072571</td>\n",
       "      <td>0.088489</td>\n",
       "      <td>0.125691</td>\n",
       "    </tr>\n",
       "    <tr>\n",
       "      <th>o</th>\n",
       "      <td>0.074376</td>\n",
       "      <td>0.058002</td>\n",
       "      <td>0.037228</td>\n",
       "      <td>0.048640</td>\n",
       "    </tr>\n",
       "    <tr>\n",
       "      <th>p</th>\n",
       "      <td>0.019615</td>\n",
       "      <td>0.028457</td>\n",
       "      <td>0.028619</td>\n",
       "      <td>0.031509</td>\n",
       "    </tr>\n",
       "    <tr>\n",
       "      <th>q</th>\n",
       "      <td>0.003208</td>\n",
       "      <td>0.006397</td>\n",
       "      <td>0.000011</td>\n",
       "      <td>0.000669</td>\n",
       "    </tr>\n",
       "    <tr>\n",
       "      <th>r</th>\n",
       "      <td>0.076498</td>\n",
       "      <td>0.076141</td>\n",
       "      <td>0.063212</td>\n",
       "      <td>0.024510</td>\n",
       "    </tr>\n",
       "    <tr>\n",
       "      <th>s</th>\n",
       "      <td>0.073799</td>\n",
       "      <td>0.078303</td>\n",
       "      <td>0.067731</td>\n",
       "      <td>0.052449</td>\n",
       "    </tr>\n",
       "    <tr>\n",
       "      <th>t</th>\n",
       "      <td>0.081022</td>\n",
       "      <td>0.068285</td>\n",
       "      <td>0.048595</td>\n",
       "      <td>0.051949</td>\n",
       "    </tr>\n",
       "    <tr>\n",
       "      <th>u</th>\n",
       "      <td>0.028900</td>\n",
       "      <td>0.051444</td>\n",
       "      <td>0.043003</td>\n",
       "      <td>0.029315</td>\n",
       "    </tr>\n",
       "    <tr>\n",
       "      <th>v</th>\n",
       "      <td>0.013772</td>\n",
       "      <td>0.012087</td>\n",
       "      <td>0.004532</td>\n",
       "      <td>0.002391</td>\n",
       "    </tr>\n",
       "    <tr>\n",
       "      <th>w</th>\n",
       "      <td>0.014435</td>\n",
       "      <td>0.003060</td>\n",
       "      <td>0.005512</td>\n",
       "      <td>0.010755</td>\n",
       "    </tr>\n",
       "    <tr>\n",
       "      <th>x</th>\n",
       "      <td>0.001802</td>\n",
       "      <td>0.004164</td>\n",
       "      <td>0.001155</td>\n",
       "      <td>0.000469</td>\n",
       "    </tr>\n",
       "    <tr>\n",
       "      <th>y</th>\n",
       "      <td>0.014390</td>\n",
       "      <td>0.005075</td>\n",
       "      <td>0.011499</td>\n",
       "      <td>0.023370</td>\n",
       "    </tr>\n",
       "    <tr>\n",
       "      <th>z</th>\n",
       "      <td>0.000638</td>\n",
       "      <td>0.000586</td>\n",
       "      <td>0.001039</td>\n",
       "      <td>0.001096</td>\n",
       "    </tr>\n",
       "  </tbody>\n",
       "</table>\n",
       "</div>"
      ],
      "text/plain": [
       "         en        fr        id        tl\n",
       "a  0.078620  0.076462  0.143917  0.215725\n",
       "b  0.017609  0.013802  0.028470  0.022360\n",
       "c  0.036143  0.035956  0.011012  0.009065\n",
       "d  0.038315  0.046670  0.036799  0.015920\n",
       "e  0.128073  0.149690  0.091711  0.031863\n",
       "f  0.016650  0.011862  0.007415  0.003200\n",
       "g  0.027052  0.012418  0.049518  0.086776\n",
       "h  0.032305  0.013495  0.016180  0.017125\n",
       "i  0.078720  0.074776  0.099914  0.083303\n",
       "j  0.002451  0.002720  0.005221  0.001311\n",
       "k  0.007166  0.001889  0.031672  0.027721\n",
       "l  0.047411  0.062862  0.043160  0.048553\n",
       "m  0.024146  0.032823  0.034384  0.034264\n",
       "n  0.062884  0.072571  0.088489  0.125691\n",
       "o  0.074376  0.058002  0.037228  0.048640\n",
       "p  0.019615  0.028457  0.028619  0.031509\n",
       "q  0.003208  0.006397  0.000011  0.000669\n",
       "r  0.076498  0.076141  0.063212  0.024510\n",
       "s  0.073799  0.078303  0.067731  0.052449\n",
       "t  0.081022  0.068285  0.048595  0.051949\n",
       "u  0.028900  0.051444  0.043003  0.029315\n",
       "v  0.013772  0.012087  0.004532  0.002391\n",
       "w  0.014435  0.003060  0.005512  0.010755\n",
       "x  0.001802  0.004164  0.001155  0.000469\n",
       "y  0.014390  0.005075  0.011499  0.023370\n",
       "z  0.000638  0.000586  0.001039  0.001096"
      ]
     },
     "execution_count": 29,
     "metadata": {},
     "output_type": "execute_result"
    }
   ],
   "source": [
    "df"
   ]
  },
  {
   "cell_type": "code",
   "execution_count": 30,
   "metadata": {
    "collapsed": false
   },
   "outputs": [
    {
     "data": {
      "text/plain": [
       "<function matplotlib.pyplot.show>"
      ]
     },
     "execution_count": 30,
     "metadata": {},
     "output_type": "execute_result"
    },
    {
     "data": {
      "image/png": "[encoded data removed]",
      "text/plain": [
       "<matplotlib.figure.Figure at 0x1133ba9b0>"
      ]
     },
     "metadata": {},
     "output_type": "display_data"
    }
   ],
   "source": [
    "plt.style.use('ggplot')\n",
    "df.plot(kind=\"line\")\n",
    "plt.show"
   ]
  },
  {
   "cell_type": "markdown",
   "metadata": {},
   "source": [
    "# # SVM"
   ]
  },
  {
   "cell_type": "code",
   "execution_count": 31,
   "metadata": {
    "collapsed": true
   },
   "outputs": [],
   "source": [
    "import random"
   ]
  },
  {
   "cell_type": "markdown",
   "metadata": {},
   "source": [
    "#### BMI를 계산해서 레이블을 리턴하는 함수"
   ]
  },
  {
   "cell_type": "code",
   "execution_count": 32,
   "metadata": {
    "collapsed": true
   },
   "outputs": [],
   "source": [
    "def calc_bmi(h, w):\n",
    "    bmi = w / (h/100) ** 2\n",
    "    \n",
    "    if bmi < 18.5 : return \"thin\"\n",
    "    if bmi < 25 : return \"normal\"\n",
    "    \n",
    "    return \"fat\""
   ]
  },
  {
   "cell_type": "markdown",
   "metadata": {},
   "source": [
    "#### 출력 파일 준비하기"
   ]
  },
  {
   "cell_type": "code",
   "execution_count": 98,
   "metadata": {
    "collapsed": false
   },
   "outputs": [
    {
     "data": {
      "text/plain": [
       "21"
      ]
     },
     "execution_count": 98,
     "metadata": {},
     "output_type": "execute_result"
    }
   ],
   "source": [
    "fp = open(\"bmi.csv\", \"w\", encoding = \"utf-8\")\n",
    "fp.write(\"height,weight,label\\r\\n\")"
   ]
  },
  {
   "cell_type": "markdown",
   "metadata": {},
   "source": [
    "#### 무작위로 데이터 생성하기"
   ]
  },
  {
   "cell_type": "markdown",
   "metadata": {},
   "source": [
    " randint(최소, 최대) : 입력 파라미터인 최소부터 최대까지 중 임의의 정수를 리턴"
   ]
  },
  {
   "cell_type": "code",
   "execution_count": 99,
   "metadata": {
    "collapsed": false
   },
   "outputs": [
    {
     "name": "stdout",
     "output_type": "stream",
     "text": [
      "ok, {'fat': 7648, 'normal': 5930, 'thin': 6422}\n"
     ]
    }
   ],
   "source": [
    "cnt = {\"thin\":0, \"normal\": 0, \"fat\": 0}\n",
    "\n",
    "for i in range(20000):\n",
    "    h = random.randint(120,200)\n",
    "    w = random.randint(35, 80)\n",
    "    label = calc_bmi(h, w)\n",
    "    cnt[label] += 1\n",
    "    fp.write(\"{0},{1},{2}\\r\\n\".format(h, w, label))\n",
    "\n",
    "fp.close()\n",
    "\n",
    "print(\"ok,\", cnt)"
   ]
  },
  {
   "cell_type": "markdown",
   "metadata": {},
   "source": [
    "# SVM을 실제로 사용해보기"
   ]
  },
  {
   "cell_type": "markdown",
   "metadata": {},
   "source": [
    "- C:오류페널티매개변수,(기본값=1.0)\n",
    "- cash_size: 커널의 캐시 크기(MB)를 지정\n",
    "- class_weight: 클래스 i의 매개 변수 C를 SVC의 경우 class_weight [i] * C로 설정합니다. 주어지지 않으면, 모든 클래스는 가중치 1을 가짐. \"balanced“ 모드는 y의 값을 사용하여 입력 데이터의 클래스 빈도에 반비례하는 가중치를 자동으로 조정 (n_samples / (n_classes * np.bincount(y)))\n",
    "- coef0: 커널 함수의 독립 용어. 'poly'및 'sigmoid' 에서만 의미가 있음 (기본값 = 0.0)\n",
    "- decision_function_shape: one-vs-rest (‘ovr’), (n_samples, n_classes) , or the original one-vs-one (‘ovo’),(n_samples, n_classes * (n_classes - 1) / 2) (기본값 = ‘ovr)\n",
    "- degree: 다항('poly') 커널 함수의 차수. 다른 모든 커널에서는 무시됨(기본값 = 3)\n",
    "- gamma: 'rbf', 'poly'및 'sigmoid'에 대한 커널 계수. 감마가 '자동'이면 1 / n_features가 대신 사용됩니다.\n",
    "- kernel: 알고리즘에 사용할 커널 유형(‘linear', ‘poly’, ‘rbf’, ‘sigmoid‘ 등)을 지정, (기본값 = ‘rbf’)\n",
    "- max_iter: 반복횟수 제한. -1은 무한을 의미함 (기본값 = -1)\n",
    "- probability: 확률 추정 가능 여부. fit 메서드를 호출하기 전에 사용 가능하며 사용할 경우 속도가 느려짐(default=False)\n",
    "- random_state: 데이터를 셔플 할 때 사용할 의사(pseudo) 난수 생성 프로그램의 시드(기본값 = none)\n",
    "- shrinking: 수축 추론(shrinking heuristic)을 사용할 지 여부(기본값=True)\n",
    "- tol: 계산을 정지시키는 허용 오차(기본값 = 1e-3)\n",
    "- verbose: 자세한 출력을 사용함"
   ]
  },
  {
   "cell_type": "code",
   "execution_count": 100,
   "metadata": {
    "collapsed": true
   },
   "outputs": [],
   "source": [
    "from sklearn import svm, metrics\n",
    "from sklearn.model_selection import train_test_split\n",
    "import matplotlib.pyplot as plt\n",
    "import pandas as pd\n",
    "import numpy as np"
   ]
  },
  {
   "cell_type": "markdown",
   "metadata": {},
   "source": [
    "### (1) 키와 몸무게 데이터 읽어 들이기"
   ]
  },
  {
   "cell_type": "code",
   "execution_count": 101,
   "metadata": {
    "collapsed": true
   },
   "outputs": [],
   "source": [
    "tbl = pd.read_csv(\"bmi.csv\")"
   ]
  },
  {
   "cell_type": "markdown",
   "metadata": {},
   "source": [
    "### (2) 칼럽(열)을 자르고 정규화하기"
   ]
  },
  {
   "cell_type": "code",
   "execution_count": 102,
   "metadata": {
    "collapsed": false,
    "scrolled": true
   },
   "outputs": [
    {
     "data": {
      "text/html": [
       "<div>\n",
       "<style scoped>\n",
       "    .dataframe tbody tr th:only-of-type {\n",
       "        vertical-align: middle;\n",
       "    }\n",
       "\n",
       "    .dataframe tbody tr th {\n",
       "        vertical-align: top;\n",
       "    }\n",
       "\n",
       "    .dataframe thead th {\n",
       "        text-align: right;\n",
       "    }\n",
       "</style>\n",
       "<table border=\"1\" class=\"dataframe\">\n",
       "  <thead>\n",
       "    <tr style=\"text-align: right;\">\n",
       "      <th></th>\n",
       "      <th>height</th>\n",
       "      <th>weight</th>\n",
       "      <th>label</th>\n",
       "    </tr>\n",
       "  </thead>\n",
       "  <tbody>\n",
       "    <tr>\n",
       "      <th>0</th>\n",
       "      <td>131</td>\n",
       "      <td>53</td>\n",
       "      <td>fat</td>\n",
       "    </tr>\n",
       "    <tr>\n",
       "      <th>1</th>\n",
       "      <td>140</td>\n",
       "      <td>43</td>\n",
       "      <td>normal</td>\n",
       "    </tr>\n",
       "    <tr>\n",
       "      <th>2</th>\n",
       "      <td>169</td>\n",
       "      <td>68</td>\n",
       "      <td>normal</td>\n",
       "    </tr>\n",
       "    <tr>\n",
       "      <th>3</th>\n",
       "      <td>141</td>\n",
       "      <td>50</td>\n",
       "      <td>fat</td>\n",
       "    </tr>\n",
       "    <tr>\n",
       "      <th>4</th>\n",
       "      <td>171</td>\n",
       "      <td>37</td>\n",
       "      <td>thin</td>\n",
       "    </tr>\n",
       "    <tr>\n",
       "      <th>5</th>\n",
       "      <td>199</td>\n",
       "      <td>57</td>\n",
       "      <td>thin</td>\n",
       "    </tr>\n",
       "    <tr>\n",
       "      <th>6</th>\n",
       "      <td>181</td>\n",
       "      <td>51</td>\n",
       "      <td>thin</td>\n",
       "    </tr>\n",
       "    <tr>\n",
       "      <th>7</th>\n",
       "      <td>165</td>\n",
       "      <td>37</td>\n",
       "      <td>thin</td>\n",
       "    </tr>\n",
       "    <tr>\n",
       "      <th>8</th>\n",
       "      <td>148</td>\n",
       "      <td>44</td>\n",
       "      <td>normal</td>\n",
       "    </tr>\n",
       "    <tr>\n",
       "      <th>9</th>\n",
       "      <td>143</td>\n",
       "      <td>56</td>\n",
       "      <td>fat</td>\n",
       "    </tr>\n",
       "    <tr>\n",
       "      <th>10</th>\n",
       "      <td>152</td>\n",
       "      <td>70</td>\n",
       "      <td>fat</td>\n",
       "    </tr>\n",
       "    <tr>\n",
       "      <th>11</th>\n",
       "      <td>120</td>\n",
       "      <td>67</td>\n",
       "      <td>fat</td>\n",
       "    </tr>\n",
       "    <tr>\n",
       "      <th>12</th>\n",
       "      <td>143</td>\n",
       "      <td>41</td>\n",
       "      <td>normal</td>\n",
       "    </tr>\n",
       "    <tr>\n",
       "      <th>13</th>\n",
       "      <td>185</td>\n",
       "      <td>44</td>\n",
       "      <td>thin</td>\n",
       "    </tr>\n",
       "    <tr>\n",
       "      <th>14</th>\n",
       "      <td>144</td>\n",
       "      <td>79</td>\n",
       "      <td>fat</td>\n",
       "    </tr>\n",
       "    <tr>\n",
       "      <th>15</th>\n",
       "      <td>200</td>\n",
       "      <td>51</td>\n",
       "      <td>thin</td>\n",
       "    </tr>\n",
       "    <tr>\n",
       "      <th>16</th>\n",
       "      <td>176</td>\n",
       "      <td>75</td>\n",
       "      <td>normal</td>\n",
       "    </tr>\n",
       "    <tr>\n",
       "      <th>17</th>\n",
       "      <td>130</td>\n",
       "      <td>70</td>\n",
       "      <td>fat</td>\n",
       "    </tr>\n",
       "    <tr>\n",
       "      <th>18</th>\n",
       "      <td>169</td>\n",
       "      <td>67</td>\n",
       "      <td>normal</td>\n",
       "    </tr>\n",
       "    <tr>\n",
       "      <th>19</th>\n",
       "      <td>148</td>\n",
       "      <td>73</td>\n",
       "      <td>fat</td>\n",
       "    </tr>\n",
       "    <tr>\n",
       "      <th>20</th>\n",
       "      <td>124</td>\n",
       "      <td>61</td>\n",
       "      <td>fat</td>\n",
       "    </tr>\n",
       "    <tr>\n",
       "      <th>21</th>\n",
       "      <td>125</td>\n",
       "      <td>68</td>\n",
       "      <td>fat</td>\n",
       "    </tr>\n",
       "    <tr>\n",
       "      <th>22</th>\n",
       "      <td>184</td>\n",
       "      <td>50</td>\n",
       "      <td>thin</td>\n",
       "    </tr>\n",
       "    <tr>\n",
       "      <th>23</th>\n",
       "      <td>176</td>\n",
       "      <td>37</td>\n",
       "      <td>thin</td>\n",
       "    </tr>\n",
       "    <tr>\n",
       "      <th>24</th>\n",
       "      <td>179</td>\n",
       "      <td>36</td>\n",
       "      <td>thin</td>\n",
       "    </tr>\n",
       "    <tr>\n",
       "      <th>25</th>\n",
       "      <td>127</td>\n",
       "      <td>78</td>\n",
       "      <td>fat</td>\n",
       "    </tr>\n",
       "    <tr>\n",
       "      <th>26</th>\n",
       "      <td>179</td>\n",
       "      <td>42</td>\n",
       "      <td>thin</td>\n",
       "    </tr>\n",
       "    <tr>\n",
       "      <th>27</th>\n",
       "      <td>179</td>\n",
       "      <td>35</td>\n",
       "      <td>thin</td>\n",
       "    </tr>\n",
       "    <tr>\n",
       "      <th>28</th>\n",
       "      <td>175</td>\n",
       "      <td>51</td>\n",
       "      <td>thin</td>\n",
       "    </tr>\n",
       "    <tr>\n",
       "      <th>29</th>\n",
       "      <td>122</td>\n",
       "      <td>41</td>\n",
       "      <td>fat</td>\n",
       "    </tr>\n",
       "    <tr>\n",
       "      <th>...</th>\n",
       "      <td>...</td>\n",
       "      <td>...</td>\n",
       "      <td>...</td>\n",
       "    </tr>\n",
       "    <tr>\n",
       "      <th>19970</th>\n",
       "      <td>170</td>\n",
       "      <td>47</td>\n",
       "      <td>thin</td>\n",
       "    </tr>\n",
       "    <tr>\n",
       "      <th>19971</th>\n",
       "      <td>140</td>\n",
       "      <td>36</td>\n",
       "      <td>thin</td>\n",
       "    </tr>\n",
       "    <tr>\n",
       "      <th>19972</th>\n",
       "      <td>143</td>\n",
       "      <td>41</td>\n",
       "      <td>normal</td>\n",
       "    </tr>\n",
       "    <tr>\n",
       "      <th>19973</th>\n",
       "      <td>131</td>\n",
       "      <td>44</td>\n",
       "      <td>fat</td>\n",
       "    </tr>\n",
       "    <tr>\n",
       "      <th>19974</th>\n",
       "      <td>186</td>\n",
       "      <td>71</td>\n",
       "      <td>normal</td>\n",
       "    </tr>\n",
       "    <tr>\n",
       "      <th>19975</th>\n",
       "      <td>157</td>\n",
       "      <td>42</td>\n",
       "      <td>thin</td>\n",
       "    </tr>\n",
       "    <tr>\n",
       "      <th>19976</th>\n",
       "      <td>169</td>\n",
       "      <td>71</td>\n",
       "      <td>normal</td>\n",
       "    </tr>\n",
       "    <tr>\n",
       "      <th>19977</th>\n",
       "      <td>147</td>\n",
       "      <td>45</td>\n",
       "      <td>normal</td>\n",
       "    </tr>\n",
       "    <tr>\n",
       "      <th>19978</th>\n",
       "      <td>197</td>\n",
       "      <td>43</td>\n",
       "      <td>thin</td>\n",
       "    </tr>\n",
       "    <tr>\n",
       "      <th>19979</th>\n",
       "      <td>134</td>\n",
       "      <td>37</td>\n",
       "      <td>normal</td>\n",
       "    </tr>\n",
       "    <tr>\n",
       "      <th>19980</th>\n",
       "      <td>130</td>\n",
       "      <td>61</td>\n",
       "      <td>fat</td>\n",
       "    </tr>\n",
       "    <tr>\n",
       "      <th>19981</th>\n",
       "      <td>185</td>\n",
       "      <td>76</td>\n",
       "      <td>normal</td>\n",
       "    </tr>\n",
       "    <tr>\n",
       "      <th>19982</th>\n",
       "      <td>162</td>\n",
       "      <td>74</td>\n",
       "      <td>fat</td>\n",
       "    </tr>\n",
       "    <tr>\n",
       "      <th>19983</th>\n",
       "      <td>182</td>\n",
       "      <td>52</td>\n",
       "      <td>thin</td>\n",
       "    </tr>\n",
       "    <tr>\n",
       "      <th>19984</th>\n",
       "      <td>151</td>\n",
       "      <td>60</td>\n",
       "      <td>fat</td>\n",
       "    </tr>\n",
       "    <tr>\n",
       "      <th>19985</th>\n",
       "      <td>123</td>\n",
       "      <td>77</td>\n",
       "      <td>fat</td>\n",
       "    </tr>\n",
       "    <tr>\n",
       "      <th>19986</th>\n",
       "      <td>154</td>\n",
       "      <td>74</td>\n",
       "      <td>fat</td>\n",
       "    </tr>\n",
       "    <tr>\n",
       "      <th>19987</th>\n",
       "      <td>152</td>\n",
       "      <td>64</td>\n",
       "      <td>fat</td>\n",
       "    </tr>\n",
       "    <tr>\n",
       "      <th>19988</th>\n",
       "      <td>194</td>\n",
       "      <td>38</td>\n",
       "      <td>thin</td>\n",
       "    </tr>\n",
       "    <tr>\n",
       "      <th>19989</th>\n",
       "      <td>184</td>\n",
       "      <td>68</td>\n",
       "      <td>normal</td>\n",
       "    </tr>\n",
       "    <tr>\n",
       "      <th>19990</th>\n",
       "      <td>140</td>\n",
       "      <td>76</td>\n",
       "      <td>fat</td>\n",
       "    </tr>\n",
       "    <tr>\n",
       "      <th>19991</th>\n",
       "      <td>165</td>\n",
       "      <td>63</td>\n",
       "      <td>normal</td>\n",
       "    </tr>\n",
       "    <tr>\n",
       "      <th>19992</th>\n",
       "      <td>148</td>\n",
       "      <td>66</td>\n",
       "      <td>fat</td>\n",
       "    </tr>\n",
       "    <tr>\n",
       "      <th>19993</th>\n",
       "      <td>137</td>\n",
       "      <td>63</td>\n",
       "      <td>fat</td>\n",
       "    </tr>\n",
       "    <tr>\n",
       "      <th>19994</th>\n",
       "      <td>195</td>\n",
       "      <td>41</td>\n",
       "      <td>thin</td>\n",
       "    </tr>\n",
       "    <tr>\n",
       "      <th>19995</th>\n",
       "      <td>164</td>\n",
       "      <td>67</td>\n",
       "      <td>normal</td>\n",
       "    </tr>\n",
       "    <tr>\n",
       "      <th>19996</th>\n",
       "      <td>130</td>\n",
       "      <td>58</td>\n",
       "      <td>fat</td>\n",
       "    </tr>\n",
       "    <tr>\n",
       "      <th>19997</th>\n",
       "      <td>148</td>\n",
       "      <td>79</td>\n",
       "      <td>fat</td>\n",
       "    </tr>\n",
       "    <tr>\n",
       "      <th>19998</th>\n",
       "      <td>187</td>\n",
       "      <td>51</td>\n",
       "      <td>thin</td>\n",
       "    </tr>\n",
       "    <tr>\n",
       "      <th>19999</th>\n",
       "      <td>127</td>\n",
       "      <td>39</td>\n",
       "      <td>normal</td>\n",
       "    </tr>\n",
       "  </tbody>\n",
       "</table>\n",
       "<p>20000 rows × 3 columns</p>\n",
       "</div>"
      ],
      "text/plain": [
       "       height  weight   label\n",
       "0         131      53     fat\n",
       "1         140      43  normal\n",
       "2         169      68  normal\n",
       "3         141      50     fat\n",
       "4         171      37    thin\n",
       "5         199      57    thin\n",
       "6         181      51    thin\n",
       "7         165      37    thin\n",
       "8         148      44  normal\n",
       "9         143      56     fat\n",
       "10        152      70     fat\n",
       "11        120      67     fat\n",
       "12        143      41  normal\n",
       "13        185      44    thin\n",
       "14        144      79     fat\n",
       "15        200      51    thin\n",
       "16        176      75  normal\n",
       "17        130      70     fat\n",
       "18        169      67  normal\n",
       "19        148      73     fat\n",
       "20        124      61     fat\n",
       "21        125      68     fat\n",
       "22        184      50    thin\n",
       "23        176      37    thin\n",
       "24        179      36    thin\n",
       "25        127      78     fat\n",
       "26        179      42    thin\n",
       "27        179      35    thin\n",
       "28        175      51    thin\n",
       "29        122      41     fat\n",
       "...       ...     ...     ...\n",
       "19970     170      47    thin\n",
       "19971     140      36    thin\n",
       "19972     143      41  normal\n",
       "19973     131      44     fat\n",
       "19974     186      71  normal\n",
       "19975     157      42    thin\n",
       "19976     169      71  normal\n",
       "19977     147      45  normal\n",
       "19978     197      43    thin\n",
       "19979     134      37  normal\n",
       "19980     130      61     fat\n",
       "19981     185      76  normal\n",
       "19982     162      74     fat\n",
       "19983     182      52    thin\n",
       "19984     151      60     fat\n",
       "19985     123      77     fat\n",
       "19986     154      74     fat\n",
       "19987     152      64     fat\n",
       "19988     194      38    thin\n",
       "19989     184      68  normal\n",
       "19990     140      76     fat\n",
       "19991     165      63  normal\n",
       "19992     148      66     fat\n",
       "19993     137      63     fat\n",
       "19994     195      41    thin\n",
       "19995     164      67  normal\n",
       "19996     130      58     fat\n",
       "19997     148      79     fat\n",
       "19998     187      51    thin\n",
       "19999     127      39  normal\n",
       "\n",
       "[20000 rows x 3 columns]"
      ]
     },
     "execution_count": 102,
     "metadata": {},
     "output_type": "execute_result"
    }
   ],
   "source": [
    "tbl"
   ]
  },
  {
   "cell_type": "code",
   "execution_count": 103,
   "metadata": {
    "collapsed": false,
    "scrolled": true
   },
   "outputs": [
    {
     "data": {
      "text/html": [
       "<div>\n",
       "<style scoped>\n",
       "    .dataframe tbody tr th:only-of-type {\n",
       "        vertical-align: middle;\n",
       "    }\n",
       "\n",
       "    .dataframe tbody tr th {\n",
       "        vertical-align: top;\n",
       "    }\n",
       "\n",
       "    .dataframe thead th {\n",
       "        text-align: right;\n",
       "    }\n",
       "</style>\n",
       "<table border=\"1\" class=\"dataframe\">\n",
       "  <thead>\n",
       "    <tr style=\"text-align: right;\">\n",
       "      <th></th>\n",
       "      <th>height</th>\n",
       "      <th>weight</th>\n",
       "      <th>label</th>\n",
       "    </tr>\n",
       "  </thead>\n",
       "  <tbody>\n",
       "    <tr>\n",
       "      <th>0</th>\n",
       "      <td>131</td>\n",
       "      <td>53</td>\n",
       "      <td>fat</td>\n",
       "    </tr>\n",
       "    <tr>\n",
       "      <th>1</th>\n",
       "      <td>140</td>\n",
       "      <td>43</td>\n",
       "      <td>normal</td>\n",
       "    </tr>\n",
       "    <tr>\n",
       "      <th>2</th>\n",
       "      <td>169</td>\n",
       "      <td>68</td>\n",
       "      <td>normal</td>\n",
       "    </tr>\n",
       "    <tr>\n",
       "      <th>3</th>\n",
       "      <td>141</td>\n",
       "      <td>50</td>\n",
       "      <td>fat</td>\n",
       "    </tr>\n",
       "    <tr>\n",
       "      <th>4</th>\n",
       "      <td>171</td>\n",
       "      <td>37</td>\n",
       "      <td>thin</td>\n",
       "    </tr>\n",
       "  </tbody>\n",
       "</table>\n",
       "</div>"
      ],
      "text/plain": [
       "   height  weight   label\n",
       "0     131      53     fat\n",
       "1     140      43  normal\n",
       "2     169      68  normal\n",
       "3     141      50     fat\n",
       "4     171      37    thin"
      ]
     },
     "execution_count": 103,
     "metadata": {},
     "output_type": "execute_result"
    }
   ],
   "source": [
    "tbl.head()"
   ]
  },
  {
   "cell_type": "code",
   "execution_count": 104,
   "metadata": {
    "collapsed": false
   },
   "outputs": [
    {
     "name": "stdout",
     "output_type": "stream",
     "text": [
      "<class 'pandas.core.frame.DataFrame'>\n",
      "RangeIndex: 20000 entries, 0 to 19999\n",
      "Data columns (total 3 columns):\n",
      "height    20000 non-null int64\n",
      "weight    20000 non-null int64\n",
      "label     20000 non-null object\n",
      "dtypes: int64(2), object(1)\n",
      "memory usage: 468.8+ KB\n"
     ]
    }
   ],
   "source": [
    "tbl.info()"
   ]
  },
  {
   "cell_type": "code",
   "execution_count": 106,
   "metadata": {
    "collapsed": false
   },
   "outputs": [],
   "source": [
    "label = tbl[\"label\"]\n",
    "w = tbl[\"weight\"]/100 # 최대 100kg이라고 가정\n",
    "h = tbl[\"height\"]/200 # 최대 200cm라고 가정\n",
    "wh = pd.concat([w, h], axis=1)"
   ]
  },
  {
   "cell_type": "markdown",
   "metadata": {},
   "source": [
    "### (3) 학습 전용 데이터와 테스트 전용 데이터로 나누기"
   ]
  },
  {
   "cell_type": "code",
   "execution_count": 107,
   "metadata": {
    "collapsed": true
   },
   "outputs": [],
   "source": [
    "data_train, data_test, label_train, label_test = train_test_split(wh, label)"
   ]
  },
  {
   "cell_type": "markdown",
   "metadata": {},
   "source": [
    "### (4) 데이터 학습하기"
   ]
  },
  {
   "cell_type": "code",
   "execution_count": 108,
   "metadata": {
    "collapsed": false
   },
   "outputs": [
    {
     "data": {
      "text/plain": [
       "SVC(C=1.0, cache_size=200, class_weight=None, coef0=0.0,\n",
       "  decision_function_shape='ovr', degree=3, gamma='auto', kernel='rbf',\n",
       "  max_iter=-1, probability=False, random_state=None, shrinking=True,\n",
       "  tol=0.001, verbose=False)"
      ]
     },
     "execution_count": 108,
     "metadata": {},
     "output_type": "execute_result"
    }
   ],
   "source": [
    "clf = svm.SVC()\n",
    "clf.fit(data_train, label_train)"
   ]
  },
  {
   "cell_type": "markdown",
   "metadata": {},
   "source": [
    "### (5) 데이터 예측하기"
   ]
  },
  {
   "cell_type": "code",
   "execution_count": 109,
   "metadata": {
    "collapsed": true
   },
   "outputs": [],
   "source": [
    "predict = clf.predict(data_test)"
   ]
  },
  {
   "cell_type": "markdown",
   "metadata": {},
   "source": [
    "### (6) 결과 테스트하기"
   ]
  },
  {
   "cell_type": "code",
   "execution_count": 110,
   "metadata": {
    "collapsed": false
   },
   "outputs": [
    {
     "name": "stdout",
     "output_type": "stream",
     "text": [
      "정답률 = 0.9852\n",
      "리포트 =\n",
      "              precision    recall  f1-score   support\n",
      "\n",
      "        fat       1.00      0.99      0.99      1914\n",
      "     normal       0.96      1.00      0.98      1456\n",
      "       thin       1.00      0.97      0.98      1630\n",
      "\n",
      "avg / total       0.99      0.99      0.99      5000\n",
      "\n"
     ]
    }
   ],
   "source": [
    "ac_score = metrics.accuracy_score(label_test, predict)\n",
    "cl_report = metrics.classification_report(label_test, predict)\n",
    "\n",
    "print(\"정답률 =\", ac_score)\n",
    "print(\"리포트 =\\n\", cl_report)"
   ]
  },
  {
   "cell_type": "markdown",
   "metadata": {},
   "source": [
    "## # 데이터 분포 확인하기"
   ]
  },
  {
   "cell_type": "markdown",
   "metadata": {},
   "source": [
    "- matplotlib.pyplot.figure(): 새 그림을 생성\n",
    "- Add_subplot():서브플롯추가.매개변수는서브플롯의위치를설명하는3자리정수.3개의정수가R,C및P\n",
    "순으로 정렬 된 경우 서브 플롯은 R 행과 C 열이 있는 표에서 P 번째 위치를 취함\n",
    "- DataFrame.loc(): 라벨값 기반의 2차원 인덱싱. label 을 통해 값을 찾을 수 있음. integer position로는 찾을 수 없음\n",
    "- matplotlib.pyplot.scatter(): 다양한 마커 크기 및 색상을 가진 y대 x의 산점도\n",
    "- x,y:데이터위치\n",
    "- c: 색상 (기본값=‘b’)\n",
    "- ax.legend(): 범례 추가"
   ]
  },
  {
   "cell_type": "code",
   "execution_count": 111,
   "metadata": {
    "collapsed": true
   },
   "outputs": [],
   "source": [
    "%matplotlib inline\n",
    "\n",
    "import matplotlib.pyplot as plt\n",
    "import pandas as pd"
   ]
  },
  {
   "cell_type": "markdown",
   "metadata": {},
   "source": [
    "#### Pandas로 CSV 파일 읽어 들이기"
   ]
  },
  {
   "cell_type": "code",
   "execution_count": 112,
   "metadata": {
    "collapsed": true
   },
   "outputs": [],
   "source": [
    "tbl = pd.read_csv(\"bmi.csv\", index_col=2)"
   ]
  },
  {
   "cell_type": "code",
   "execution_count": 113,
   "metadata": {
    "collapsed": false
   },
   "outputs": [
    {
     "name": "stdout",
     "output_type": "stream",
     "text": [
      "<class 'pandas.core.frame.DataFrame'>\n",
      "Index: 20000 entries, fat to normal\n",
      "Data columns (total 2 columns):\n",
      "height    20000 non-null int64\n",
      "weight    20000 non-null int64\n",
      "dtypes: int64(2)\n",
      "memory usage: 468.8+ KB\n"
     ]
    }
   ],
   "source": [
    "tbl.info()"
   ]
  },
  {
   "cell_type": "code",
   "execution_count": 114,
   "metadata": {
    "collapsed": false,
    "scrolled": true
   },
   "outputs": [
    {
     "data": {
      "text/html": [
       "<div>\n",
       "<style scoped>\n",
       "    .dataframe tbody tr th:only-of-type {\n",
       "        vertical-align: middle;\n",
       "    }\n",
       "\n",
       "    .dataframe tbody tr th {\n",
       "        vertical-align: top;\n",
       "    }\n",
       "\n",
       "    .dataframe thead th {\n",
       "        text-align: right;\n",
       "    }\n",
       "</style>\n",
       "<table border=\"1\" class=\"dataframe\">\n",
       "  <thead>\n",
       "    <tr style=\"text-align: right;\">\n",
       "      <th></th>\n",
       "      <th>height</th>\n",
       "      <th>weight</th>\n",
       "    </tr>\n",
       "    <tr>\n",
       "      <th>label</th>\n",
       "      <th></th>\n",
       "      <th></th>\n",
       "    </tr>\n",
       "  </thead>\n",
       "  <tbody>\n",
       "    <tr>\n",
       "      <th>fat</th>\n",
       "      <td>131</td>\n",
       "      <td>53</td>\n",
       "    </tr>\n",
       "    <tr>\n",
       "      <th>normal</th>\n",
       "      <td>140</td>\n",
       "      <td>43</td>\n",
       "    </tr>\n",
       "    <tr>\n",
       "      <th>normal</th>\n",
       "      <td>169</td>\n",
       "      <td>68</td>\n",
       "    </tr>\n",
       "    <tr>\n",
       "      <th>fat</th>\n",
       "      <td>141</td>\n",
       "      <td>50</td>\n",
       "    </tr>\n",
       "    <tr>\n",
       "      <th>thin</th>\n",
       "      <td>171</td>\n",
       "      <td>37</td>\n",
       "    </tr>\n",
       "  </tbody>\n",
       "</table>\n",
       "</div>"
      ],
      "text/plain": [
       "        height  weight\n",
       "label                 \n",
       "fat        131      53\n",
       "normal     140      43\n",
       "normal     169      68\n",
       "fat        141      50\n",
       "thin       171      37"
      ]
     },
     "execution_count": 114,
     "metadata": {},
     "output_type": "execute_result"
    }
   ],
   "source": [
    "tbl.head()"
   ]
  },
  {
   "cell_type": "markdown",
   "metadata": {},
   "source": [
    "#### 그래프 그리기 시작"
   ]
  },
  {
   "cell_type": "code",
   "execution_count": 115,
   "metadata": {
    "collapsed": false
   },
   "outputs": [
    {
     "data": {
      "image/png": "[encoded data removed]",
      "text/plain": [
       "<matplotlib.figure.Figure at 0x105761048>"
      ]
     },
     "metadata": {},
     "output_type": "display_data"
    }
   ],
   "source": [
    "fig = plt.figure()\n",
    "ax = fig.add_subplot(1,1,1)\n",
    "\n",
    "def scatter(lbl, color):\n",
    "    b = tbl.loc[lbl]\n",
    "    ax.scatter(b[\"weight\"], b[\"height\"], c=color, label=lbl)\n",
    "    \n",
    "scatter(\"fat\", \"red\")\n",
    "scatter(\"normal\", \"yellow\")\n",
    "scatter(\"thin\", \"purple\")\n",
    "ax.legend()\n",
    "plt.savefig(\"bmi-test.png\")"
   ]
  },
  {
   "cell_type": "code",
   "execution_count": null,
   "metadata": {
    "collapsed": true
   },
   "outputs": [],
   "source": []
  }
 ],
 "metadata": {
  "anaconda-cloud": {},
  "kernelspec": {
   "display_name": "Python [default]",
   "language": "python",
   "name": "python3"
  },
  "language_info": {
   "codemirror_mode": {
    "name": "ipython",
    "version": 3
   },
   "file_extension": ".py",
   "mimetype": "text/x-python",
   "name": "python",
   "nbconvert_exporter": "python",
   "pygments_lexer": "ipython3",
   "version": "3.5.4"
  }
 },
 "nbformat": 4,
 "nbformat_minor": 1
}
